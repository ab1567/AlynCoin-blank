{
  "cells": [
    {
      "cell_type": "markdown",
      "metadata": {
        "id": "view-in-github",
        "colab_type": "text"
      },
      "source": [
        "<a href=\"https://colab.research.google.com/github/ab1567/AlynCoin-blank/blob/main/SadTalker_v0.2_colab.ipynb\" target=\"_parent\"><img src=\"https://colab.research.google.com/assets/colab-badge.svg\" alt=\"Open In Colab\"/></a>"
      ]
    },
    {
      "cell_type": "code",
      "execution_count": null,
      "metadata": {
        "id": "VjYy0F2gZIPR"
      },
      "outputs": [],
      "source": [
        "# ✅ SadTalker full setup + fix (Torch 2.0.1 + torchvision 0.15.2 + basicsr fix)\n",
        "%cd /content\n",
        "!git clone -b v2.0 https://github.com/camenduru/SadTalker\n",
        "%cd /content/SadTalker\n",
        "\n",
        "# Fix dependencies: exact matching versions that work with SadTalker\n",
        "!pip uninstall -y torch torchvision numpy gfpgan basicsr\n",
        "!pip install torch==2.0.1+cu118 torchvision==0.15.2+cu118 --extra-index-url https://download.pytorch.org/whl/cu118 --force-reinstall\n",
        "!pip install numpy==1.24.4 basicsr==1.4.2 gfpgan==1.3.8 --force-reinstall\n",
        "!pip install -q gradio safetensors kornia facexlib yacs\n",
        "\n",
        "# 🔽 Download models using aria2 (fast and reliable)\n",
        "!apt -y install -qq aria2\n",
        "!mkdir -p /content/SadTalker/checkpoints /content/SadTalker/gfpgan/weights\n",
        "\n",
        "# Checkpoints\n",
        "!aria2c -x 16 -s 16 -k 1M https://huggingface.co/camenduru/SadTalker/resolve/main/new/checkpoints/SadTalker_V0.0.2_256.safetensors -d checkpoints -o SadTalker_V0.0.2_256.safetensors\n",
        "!aria2c -x 16 -s 16 -k 1M https://huggingface.co/camenduru/SadTalker/resolve/main/new/checkpoints/SadTalker_V0.0.2_512.safetensors -d checkpoints -o SadTalker_V0.0.2_512.safetensors\n",
        "!aria2c -x 16 -s 16 -k 1M https://huggingface.co/camenduru/SadTalker/resolve/main/new/checkpoints/mapping_00109-model.pth.tar -d checkpoints -o mapping_00109-model.pth.tar\n",
        "!aria2c -x 16 -s 16 -k 1M https://huggingface.co/camenduru/SadTalker/resolve/main/new/checkpoints/mapping_00229-model.pth.tar -d checkpoints -o mapping_00229-model.pth.tar\n",
        "!aria2c -x 16 -s 16 -k 1M https://huggingface.co/camenduru/SadTalker/resolve/main/new/checkpoints/epoch_00190_iteration_000400000_checkpoint.pt -d checkpoints -o epoch_00190_iteration_000400000_checkpoint.pt\n",
        "\n",
        "# GFPGAN weights\n",
        "!aria2c -x 16 -s 16 -k 1M https://huggingface.co/camenduru/SadTalker/resolve/main/new/gfpgan/weights/GFPGANv1.4.pth -d gfpgan/weights -o GFPGANv1.4.pth\n",
        "!aria2c -x 16 -s 16 -k 1M https://huggingface.co/camenduru/SadTalker/resolve/main/new/gfpgan/weights/alignment_WFLW_4HG.pth -d gfpgan/weights -o alignment_WFLW_4HG.pth\n",
        "!aria2c -x 16 -s 16 -k 1M https://huggingface.co/camenduru/SadTalker/resolve/main/new/gfpgan/weights/detection_Resnet50_Final.pth -d gfpgan/weights -o detection_Resnet50_Final.pth\n",
        "!aria2c -x 16 -s 16 -k 1M https://huggingface.co/camenduru/SadTalker/resolve/main/new/gfpgan/weights/parsing_parsenet.pth -d gfpgan/weights -o parsing_parsenet.pth\n",
        "\n",
        "# ✅ Launch SadTalker Web UI\n",
        "!python app_sadtalker.py\n"
      ]
    }
  ],
  "metadata": {
    "accelerator": "GPU",
    "colab": {
      "gpuType": "T4",
      "provenance": [],
      "include_colab_link": true
    },
    "kernelspec": {
      "display_name": "Python 3",
      "name": "python3"
    },
    "language_info": {
      "name": "python"
    }
  },
  "nbformat": 4,
  "nbformat_minor": 0
}